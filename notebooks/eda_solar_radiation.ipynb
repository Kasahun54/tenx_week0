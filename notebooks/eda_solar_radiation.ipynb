{
 "cells": [
  {
   "cell_type": "markdown",
   "metadata": {},
   "source": [
    "## Solar Radiation Data: Exploratory Data Analysis\n",
    "\n",
    "This notebook explores the solar radiation dataset, covering tasks such as data quality checks, summary statistics, and visualization of trends.\n"
   ]
  }
 ],
 "metadata": {
  "language_info": {
   "name": "python"
  }
 },
 "nbformat": 4,
 "nbformat_minor": 2
}
