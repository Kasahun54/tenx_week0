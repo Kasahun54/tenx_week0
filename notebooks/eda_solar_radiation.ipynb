{
 "cells": [
  {
   "cell_type": "markdown",
   "metadata": {},
   "source": [
    "## Solar Radiation Data: Exploratory Data Analysis\n",
    "\n",
    "This notebook explores the solar radiation dataset, covering tasks such as data quality checks, summary statistics, and visualization of trends.\n"
   ]
  },
  {
   "cell_type": "code",
   "execution_count": 11,
   "metadata": {},
   "outputs": [],
   "source": [
    "import matplotlib.pyplot as plt\n",
    "import seaborn as sns\n",
    "\n",
    "def plot_time_series(df, columns):\n",
    "    df.plot(x='Timestamp', y=columns, figsize=(10, 6))\n",
    "    plt.title(\"Time Series Analysis\")\n",
    "    plt.xlabel(\"Timestamp\")\n",
    "    plt.ylabel(\"Values\")\n",
    "    plt.show()\n"
   ]
  },
  {
   "cell_type": "code",
   "execution_count": 12,
   "metadata": {},
   "outputs": [],
   "source": [
    "def plot_temp_vs_humidity(df):\n",
    "    sns.scatterplot(data=df, x='RH', y='Tamb', hue='GHI')\n",
    "    plt.title(\"Temperature vs. Humidity\")\n",
    "    plt.show()\n"
   ]
  },
  {
   "cell_type": "code",
   "execution_count": 14,
   "metadata": {},
   "outputs": [],
   "source": [
    "def plot_bubble_chart(df):\n",
    "    plt.scatter(df['GHI'], df['Tamb'], s=df['RH']*10, alpha=0.5)\n",
    "    plt.xlabel('GHI')\n",
    "    plt.ylabel('Tamb')\n",
    "    plt.title(\"Bubble Chart: GHI vs Tamb vs RH\")\n",
    "    plt.show()\n"
   ]
  }
 ],
 "metadata": {
  "kernelspec": {
   "display_name": ".venv",
   "language": "python",
   "name": "python3"
  },
  "language_info": {
   "codemirror_mode": {
    "name": "ipython",
    "version": 3
   },
   "file_extension": ".py",
   "mimetype": "text/x-python",
   "name": "python",
   "nbconvert_exporter": "python",
   "pygments_lexer": "ipython3",
   "version": "3.11.9"
  }
 },
 "nbformat": 4,
 "nbformat_minor": 2
}
